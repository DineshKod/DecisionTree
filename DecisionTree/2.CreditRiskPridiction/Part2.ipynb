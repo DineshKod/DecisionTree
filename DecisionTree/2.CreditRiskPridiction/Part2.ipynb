{
 "cells": [
  {
   "cell_type": "code",
   "execution_count": 79,
   "id": "e5fe98b4-c08d-4526-a9a6-9ba452ffed5f",
   "metadata": {},
   "outputs": [
    {
     "name": "stdout",
     "output_type": "stream",
     "text": [
      "<class 'pandas.core.frame.DataFrame'>\n",
      "RangeIndex: 9 entries, 0 to 8\n",
      "Data columns (total 7 columns):\n",
      " #   Column         Non-Null Count  Dtype \n",
      "---  ------         --------------  ----- \n",
      " 0   Name           9 non-null      object\n",
      " 1   Debt           9 non-null      object\n",
      " 2   Income         9 non-null      object\n",
      " 3   Married?       9 non-null      object\n",
      " 4   Owns_Property  9 non-null      object\n",
      " 5   Gender         9 non-null      object\n",
      " 6   Risk           9 non-null      object\n",
      "dtypes: object(7)\n",
      "memory usage: 632.0+ bytes\n",
      "None\n",
      "Duplicates = 0\n",
      "    Name    Debt  Income Married? Owns_Property  Gender  Risk\n",
      "0    Tim     low     low       no            no    male   low\n",
      "1    Joe    high    high      yes           yes    male   low\n",
      "2    Sue     low    high      yes            no  female   low\n",
      "3   John  medium     low       no            no    male  high\n",
      "4   Mary    high     low      yes            no  female  high\n",
      "5   Fred     low     low      yes            no    male  high\n",
      "6   Pete     low  medium       no           yes    male   low\n",
      "7  Jacob    high  medium      yes           yes    male   low\n",
      "8  Sofia  medium     low       no            no  female  high\n"
     ]
    }
   ],
   "source": [
    "import pandas as pd\n",
    "from sklearn.tree import DecisionTreeClassifier, export_graphviz, export_text\n",
    "from sklearn.model_selection import train_test_split\n",
    "from sklearn.preprocessing import LabelEncoder\n",
    "from sklearn import tree\n",
    "from sklearn.preprocessing import OneHotEncoder\n",
    "import graphviz\n",
    "import matplotlib.pyplot as plt\n",
    "\n",
    "raw_data = {\n",
    " 'Name': ['Tim', 'Joe', 'Sue', 'John', 'Mary', 'Fred', 'Pete',\n",
    "'Jacob', 'Sofia'],\n",
    " 'Debt': ['low', 'high', 'low', 'medium', 'high', 'low', 'low',\n",
    "'high', 'medium'],\n",
    " 'Income': ['low', 'high', 'high', 'low', 'low', 'low', 'medium',\n",
    "'medium', 'low'],\n",
    " 'Married?': ['no', 'yes', 'yes', 'no', 'yes', 'yes', 'no', 'yes',\n",
    "'no'],\n",
    " 'Owns_Property': ['no', 'yes', 'no', 'no', 'no', 'no', 'yes',\n",
    "'yes', 'no'],\n",
    " 'Gender': ['male', 'male', 'female', 'male', 'female', 'male',\n",
    "'male', 'male', 'female'],\n",
    " 'Risk': ['low', 'low', 'low', 'high', 'high', 'high', 'low',\n",
    "'low', 'high']}\n",
    "data = pd.DataFrame(raw_data)\n",
    "print(data.info())\n",
    "duplicates = data.duplicated().sum()\n",
    "print(f'Duplicates = {duplicates}')\n",
    "print(data)"
   ]
  },
  {
   "cell_type": "code",
   "execution_count": null,
   "id": "70968d63-89fe-4380-ad7b-33cf5b426b27",
   "metadata": {},
   "outputs": [],
   "source": []
  },
  {
   "cell_type": "code",
   "execution_count": 80,
   "id": "173921c3-57e1-42c0-a08e-99c51f9f9cf3",
   "metadata": {},
   "outputs": [
    {
     "name": "stdout",
     "output_type": "stream",
     "text": [
      "    Name  Debt  Income  Married?  Owns_Property  Gender  Risk\n",
      "0    Tim     0       0         0              0       1     0\n",
      "1    Joe     2       2         1              1       1     0\n",
      "2    Sue     0       2         1              0       0     0\n",
      "3   John     1       0         0              0       1     1\n",
      "4   Mary     2       0         1              0       0     1\n",
      "5   Fred     0       0         1              0       1     1\n",
      "6   Pete     0       1         0              1       1     0\n",
      "7  Jacob     2       1         1              1       1     0\n",
      "8  Sofia     1       0         0              0       0     1\n"
     ]
    }
   ],
   "source": [
    "data['Married?'] = data['Married?'].map({'no': 0, 'yes': 1})\n",
    "data['Owns_Property'] = data['Owns_Property'].map({'no': 0, 'yes': 1})\n",
    "data['Gender'] = data['Gender'].map({'female': 0, 'male': 1})\n",
    "data['Risk'] = data['Risk'].map({'low': 0, 'high': 1})\n",
    "\n",
    "mapping = {'low': 0, 'medium': 1, 'high': 2}\n",
    "\n",
    "data['Debt'] = data['Debt'].map(mapping)\n",
    "data['Income'] = data['Income'].map(mapping)\n",
    "print(data)"
   ]
  },
  {
   "cell_type": "code",
   "execution_count": 81,
   "id": "679d98b7-1689-4a8c-abdc-8defb0e0b856",
   "metadata": {},
   "outputs": [
    {
     "data": {
      "text/plain": [
       "'Credit Risk Tree.pdf'"
      ]
     },
     "execution_count": 81,
     "metadata": {},
     "output_type": "execute_result"
    }
   ],
   "source": [
    "X = data[['Debt', 'Income', 'Married?', 'Owns_Property', 'Gender']]\n",
    "Y = data['Risk']\n",
    "\n",
    "#Since we have separate data to train, we won't split this data into train and test. \n",
    "\n",
    "classifier = DecisionTreeClassifier(random_state=42)\n",
    "classifier.fit(X, Y)\n",
    "\n",
    "dot_data = export_graphviz(classifier, out_file=None, feature_names=['Debt', 'Income', 'Married?', 'Owns_Property', 'Gender'], class_names=['low', 'high'], filled=True, rounded=True, special_characters=True)\n",
    "graph = graphviz.Source(dot_data)\n",
    "graph.render(\"Credit Risk Tree\", format='png')\n",
    "graph.view()"
   ]
  },
  {
   "cell_type": "code",
   "execution_count": 78,
   "id": "66db5c6f-5d50-4be7-954e-d3666d4d8606",
   "metadata": {},
   "outputs": [
    {
     "name": "stdout",
     "output_type": "stream",
     "text": [
      "Tom credit risk: low\n",
      "Ana credit risk: low\n"
     ]
    }
   ],
   "source": [
    "test_data = pd.DataFrame({\n",
    " 'Debt': [0,0],\n",
    " 'Income_low': [0,1],\n",
    " 'Married?_no': [0, 1],\n",
    " 'Owns_Property': [1, 1],\n",
    " 'Gender': [1, 0],\n",
    "})\n",
    "\n",
    "test_data = test_data.reindex(columns=X.columns, fill_value=0)\n",
    "predict = classifier.predict(test_data)\n",
    "predict_risk = ['low' if risk == 0 else 'high' for risk in predictions]\n",
    "print(f\"Tom credit risk: {predict_risk[0]}\")\n",
    "print(f\"Ana credit risk: {predict_risk[1]}\")\n"
   ]
  },
  {
   "cell_type": "code",
   "execution_count": 69,
   "id": "7beaa83a-a6a6-45ec-9787-9a22c0111e28",
   "metadata": {},
   "outputs": [
    {
     "name": "stdout",
     "output_type": "stream",
     "text": [
      "Income <= 0.50\n",
      "|  Married? <= 0.50\n",
      "|  |  Debt <= 0.50\n",
      "|  |  |  Predict: Low Risk\n",
      "|  |  Debt > 0.50\n",
      "|  |  |  Gender <= 0.50\n",
      "|  |  |  |  Predict: Low Risk\n",
      "|  |  |  Gender > 0.50\n",
      "|  |  |  |  Predict: High Risk\n",
      "|  Married? > 0.50\n",
      "|  |  Predict: High Risk\n",
      "Income > 0.50\n",
      "|  Predict: Low Risk\n"
     ]
    }
   ],
   "source": [
    "def print_tree(tree, feature_names, class_names, node=0, depth=0):\n",
    "   \n",
    "    if tree.children_left[node] == tree.children_right[node]:  # Leaf node\n",
    "        print(f\"{'|  ' * depth}Predict: {class_names[tree.value[node].argmax()]}\")\n",
    "    else:\n",
    "        feature_index = tree.feature[node]\n",
    "        threshold = tree.threshold[node]\n",
    "        \n",
    "        # Print the decision rule\n",
    "        print(f\"{'|  ' * depth}{feature_names[feature_index]} <= {threshold:.2f}\")\n",
    "        # Left child\n",
    "        print_tree(tree, feature_names, class_names, tree.children_left[node], depth + 1)\n",
    "        # Right child\n",
    "        print(f\"{'|  ' * depth}{feature_names[feature_index]} > {threshold:.2f}\")\n",
    "        print_tree(tree, feature_names, class_names, tree.children_right[node], depth + 1)\n",
    "\n",
    "from sklearn.tree import _tree\n",
    "\n",
    "feature_names = X.columns.tolist()\n",
    "class_names = ['Low Risk', 'High Risk']\n",
    "\n",
    "print_tree(classifier.tree_, feature_names, class_names)"
   ]
  },
  {
   "cell_type": "code",
   "execution_count": 72,
   "id": "03efd480-722e-47c3-bcac-21769296265e",
   "metadata": {},
   "outputs": [
    {
     "name": "stdout",
     "output_type": "stream",
     "text": [
      "Features not playing a role in the new decision tree: set()\n"
     ]
    }
   ],
   "source": [
    "used_features = set(X.columns) - set(classifier.feature_importances_ == 0)\n",
    "print(\"Features not playing a role in the new decision tree:\", set(X.columns) - used_features)"
   ]
  },
  {
   "cell_type": "code",
   "execution_count": 73,
   "id": "f0155ecb-6329-44c2-9209-1da33c00cf98",
   "metadata": {},
   "outputs": [
    {
     "name": "stdout",
     "output_type": "stream",
     "text": [
      "   Debt  Income  Married?  Owns_Property  Gender\n",
      "0     0       0         0              0       1\n",
      "1     2       2         1              1       1\n",
      "2     0       2         1              0       0\n",
      "3     1       0         0              0       1\n",
      "4     2       0         1              0       0\n",
      "5     0       0         1              0       1\n",
      "6     0       1         0              1       1\n",
      "7     2       1         1              1       1\n",
      "8     1       0         0              0       0\n"
     ]
    }
   ],
   "source": [
    "print(X)"
   ]
  }
 ],
 "metadata": {
  "kernelspec": {
   "display_name": "MLenv",
   "language": "python",
   "name": "mlenv"
  },
  "language_info": {
   "codemirror_mode": {
    "name": "ipython",
    "version": 3
   },
   "file_extension": ".py",
   "mimetype": "text/x-python",
   "name": "python",
   "nbconvert_exporter": "python",
   "pygments_lexer": "ipython3",
   "version": "3.9.0"
  }
 },
 "nbformat": 4,
 "nbformat_minor": 5
}
